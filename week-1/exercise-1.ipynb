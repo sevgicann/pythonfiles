{
 "cells": [
  {
   "cell_type": "code",
   "execution_count": 29,
   "metadata": {},
   "outputs": [
    {
     "name": "stdout",
     "output_type": "stream",
     "text": [
      "The list has 5 elements\n"
     ]
    }
   ],
   "source": [
    "def counter_elements(*list):\n",
    " if not list:\n",
    "    raise ValueError(\"Error: List is empty \")\n",
    " else:\n",
    "    return len(list)\n",
    " \n",
    "try: \n",
    "  element_count=counter_elements(23,67,87,95,102)\n",
    "  print(f\"The list has {element_count} elements\")\n",
    "except ValueError as errorMessage:\n",
    "  print(errorMessage)"
   ]
  },
  {
   "cell_type": "code",
   "execution_count": null,
   "metadata": {},
   "outputs": [],
   "source": []
  }
 ],
 "metadata": {
  "kernelspec": {
   "display_name": "base",
   "language": "python",
   "name": "python3"
  },
  "language_info": {
   "codemirror_mode": {
    "name": "ipython",
    "version": 3
   },
   "file_extension": ".py",
   "mimetype": "text/x-python",
   "name": "python",
   "nbconvert_exporter": "python",
   "pygments_lexer": "ipython3",
   "version": "3.9.13"
  }
 },
 "nbformat": 4,
 "nbformat_minor": 2
}
