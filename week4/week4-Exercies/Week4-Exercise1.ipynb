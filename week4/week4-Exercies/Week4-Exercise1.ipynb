{
 "cells": [
  {
   "cell_type": "markdown",
   "metadata": {},
   "source": [
    "# Week 4 Exercise\n",
    "- Kuş Türleri ve Ülke idari bölümleri olmak üzere iki farklı veri seti kullanıldı.\n",
    "| Week4-Exercise1 dosyasında ülke idari bölümleri ile ilgili çalışma var.\n",
    "| Week4-Exercise2 dosyasında kuş türleri ile ilgili çalışma var.\n"
   ]
  },
  {
   "cell_type": "code",
   "execution_count": 2,
   "metadata": {},
   "outputs": [],
   "source": [
    "import requests\n",
    "import pandas as pd\n"
   ]
  },
  {
   "cell_type": "code",
   "execution_count": 3,
   "metadata": {},
   "outputs": [],
   "source": [
    "#Ülkelerin idari bölümlerini JSON API ile alma ve python'da kullanılabilecek koda dönüştürme"
   ]
  },
  {
   "cell_type": "code",
   "execution_count": 4,
   "metadata": {},
   "outputs": [],
   "source": [
    "def get_country_divisions(country_code):\n",
    "    url = f\"https://rawcdn.githack.com/kamikazechaser/administrative-divisions-db/master/api/{country_code}.json\"\n",
    "    response = requests.get(url)\n",
    "    \n",
    "    if response.status_code == 200:\n",
    "        divisions_data = response.json()\n",
    "        return divisions_data\n",
    "    else:\n",
    "        print(\"Veri alınamadı.\")\n",
    "        return None\n"
   ]
  },
  {
   "cell_type": "code",
   "execution_count": 5,
   "metadata": {},
   "outputs": [
    {
     "name": "stdout",
     "output_type": "stream",
     "text": [
      "            0\n",
      "0      Yozgat\n",
      "1         Van\n",
      "2        Uşak\n",
      "3   Şanlıurfa\n",
      "4     Tunceli\n",
      "..        ...\n",
      "76    Karabük\n",
      "77     Yalova\n",
      "78    Ardahan\n",
      "79    Bayburt\n",
      "80      Düzce\n",
      "\n",
      "[81 rows x 1 columns]\n"
     ]
    }
   ],
   "source": [
    "\n",
    "# Örnek olarak 'TR' (Türkiye) ülke kodunu kullanarak veriyi alalım\n",
    "country_code = 'TR'\n",
    "country_divisions = get_country_divisions(country_code)\n",
    "\n",
    "if country_divisions:\n",
    "    #Alınan veriyi df dönüştürme\n",
    "    df=pd.DataFrame(country_divisions)\n",
    "    print(df)"
   ]
  },
  {
   "cell_type": "code",
   "execution_count": 6,
   "metadata": {},
   "outputs": [
    {
     "name": "stdout",
     "output_type": "stream",
     "text": [
      "   idari bölümler\n",
      "0          Yozgat\n",
      "1             Van\n",
      "2            Uşak\n",
      "3       Şanlıurfa\n",
      "4         Tunceli\n",
      "..            ...\n",
      "76        Karabük\n",
      "77         Yalova\n",
      "78        Ardahan\n",
      "79        Bayburt\n",
      "80          Düzce\n",
      "\n",
      "[81 rows x 1 columns]\n"
     ]
    }
   ],
   "source": [
    "#Column'a isim vererek düzenli bir hale getirme\n",
    "df = pd.DataFrame(country_divisions, columns=['idari bölümler'])\n",
    "print(df)"
   ]
  },
  {
   "cell_type": "code",
   "execution_count": 7,
   "metadata": {},
   "outputs": [
    {
     "name": "stdout",
     "output_type": "stream",
     "text": [
      "   idari bölümler\n",
      "1          Yozgat\n",
      "2             Van\n",
      "3            Uşak\n",
      "4       Şanlıurfa\n",
      "5         Tunceli\n",
      "..            ...\n",
      "77        Karabük\n",
      "78         Yalova\n",
      "79        Ardahan\n",
      "80        Bayburt\n",
      "81          Düzce\n",
      "\n",
      "[81 rows x 1 columns]\n"
     ]
    }
   ],
   "source": [
    "#İndex değeri güncellendi.\n",
    "df = pd.DataFrame(country_divisions, columns=['idari bölümler'], index=range(1, len(country_divisions) + 1))\n",
    "print(df)"
   ]
  },
  {
   "cell_type": "code",
   "execution_count": 8,
   "metadata": {},
   "outputs": [],
   "source": [
    "#İsviçre şehirleri de aynı şekilde çekildi."
   ]
  },
  {
   "cell_type": "code",
   "execution_count": 9,
   "metadata": {},
   "outputs": [
    {
     "name": "stdout",
     "output_type": "stream",
     "text": [
      "            idari bölümler\n",
      "1                   Zurich\n",
      "2                      Zug\n",
      "3                     Vaud\n",
      "4                   Valais\n",
      "5                      Uri\n",
      "6                   Ticino\n",
      "7                  Thurgau\n",
      "8                Solothurn\n",
      "9                   Schwyz\n",
      "10            Schaffhausen\n",
      "11            Saint Gallen\n",
      "12                Obwalden\n",
      "13               Nidwalden\n",
      "14               Neuchâtel\n",
      "15                 Lucerne\n",
      "16                    Jura\n",
      "17                 Grisons\n",
      "18                  Glarus\n",
      "19                  Geneva\n",
      "20                Fribourg\n",
      "21                    Bern\n",
      "22              Basel-City\n",
      "23        Basel-Landschaft\n",
      "24  Appenzell Ausserrhoden\n",
      "25   Appenzell Innerrhoden\n",
      "26                  Aargau\n"
     ]
    }
   ],
   "source": [
    "country_code = 'CH'\n",
    "country_divisions = get_country_divisions(country_code)\n",
    "\n",
    "if country_divisions:\n",
    "    \n",
    "    df = pd.DataFrame(country_divisions, columns=['idari bölümler'], index=range(1, len(country_divisions) + 1))\n",
    "   \n",
    "    print(df)"
   ]
  },
  {
   "cell_type": "code",
   "execution_count": 10,
   "metadata": {},
   "outputs": [],
   "source": [
    "country_code = 'US'\n",
    "country_divisions = get_country_divisions(country_code)\n",
    "\n",
    "if country_divisions:\n",
    "    \n",
    "    df = pd.DataFrame(country_divisions, columns=['idari bölümler'], index=range(1, len(country_divisions) + 1))\n",
    "   \n",
    "    df"
   ]
  },
  {
   "cell_type": "code",
   "execution_count": 11,
   "metadata": {},
   "outputs": [
    {
     "data": {
      "text/html": [
       "<div>\n",
       "<style scoped>\n",
       "    .dataframe tbody tr th:only-of-type {\n",
       "        vertical-align: middle;\n",
       "    }\n",
       "\n",
       "    .dataframe tbody tr th {\n",
       "        vertical-align: top;\n",
       "    }\n",
       "\n",
       "    .dataframe thead th {\n",
       "        text-align: right;\n",
       "    }\n",
       "</style>\n",
       "<table border=\"1\" class=\"dataframe\">\n",
       "  <thead>\n",
       "    <tr style=\"text-align: right;\">\n",
       "      <th></th>\n",
       "      <th>idari bölümler</th>\n",
       "    </tr>\n",
       "  </thead>\n",
       "  <tbody>\n",
       "    <tr>\n",
       "      <th>8</th>\n",
       "      <td>Maryland</td>\n",
       "    </tr>\n",
       "    <tr>\n",
       "      <th>9</th>\n",
       "      <td>Missouri</td>\n",
       "    </tr>\n",
       "    <tr>\n",
       "      <th>10</th>\n",
       "      <td>Mississippi</td>\n",
       "    </tr>\n",
       "    <tr>\n",
       "      <th>22</th>\n",
       "      <td>Maine</td>\n",
       "    </tr>\n",
       "    <tr>\n",
       "      <th>23</th>\n",
       "      <td>Michigan</td>\n",
       "    </tr>\n",
       "    <tr>\n",
       "      <th>24</th>\n",
       "      <td>Minnesota</td>\n",
       "    </tr>\n",
       "    <tr>\n",
       "      <th>40</th>\n",
       "      <td>Montana</td>\n",
       "    </tr>\n",
       "    <tr>\n",
       "      <th>49</th>\n",
       "      <td>Massachusetts</td>\n",
       "    </tr>\n",
       "  </tbody>\n",
       "</table>\n",
       "</div>"
      ],
      "text/plain": [
       "   idari bölümler\n",
       "8        Maryland\n",
       "9        Missouri\n",
       "10    Mississippi\n",
       "22          Maine\n",
       "23       Michigan\n",
       "24      Minnesota\n",
       "40        Montana\n",
       "49  Massachusetts"
      ]
     },
     "execution_count": 11,
     "metadata": {},
     "output_type": "execute_result"
    }
   ],
   "source": [
    "# Baş harfi M olan şehirleri seçmek istiyorum\n",
    "new_df = df[df['idari bölümler'].str.startswith('M')]\n",
    "new_df"
   ]
  }
 ],
 "metadata": {
  "kernelspec": {
   "display_name": "Python 3",
   "language": "python",
   "name": "python3"
  },
  "language_info": {
   "codemirror_mode": {
    "name": "ipython",
    "version": 3
   },
   "file_extension": ".py",
   "mimetype": "text/x-python",
   "name": "python",
   "nbconvert_exporter": "python",
   "pygments_lexer": "ipython3",
   "version": "3.11.6"
  }
 },
 "nbformat": 4,
 "nbformat_minor": 2
}
