{
 "cells": [
  {
   "cell_type": "code",
   "execution_count": 2,
   "metadata": {},
   "outputs": [
    {
     "name": "stdout",
     "output_type": "stream",
     "text": [
      "{'S': 1, 'e': 1, 'v': 1, 'g': 1, 'i': 1, 'c': 1, 'a': 1, 'n': 1, ' ': 1, 'K': 1, 'ı': 2, 'l': 1, 'ç': 1}\n"
     ]
    }
   ],
   "source": [
    "def count_char(string): #Char saymak için bir fonksiyon tanımlandı\n",
    "    char_count = {}\n",
    "\n",
    "    for char in string: #Sayma işlemi için döngü oluşturuldu\n",
    "        if char in char_count:\n",
    "            char_count[char] += 1 #Eğer stringin içinde birden fazla varsa sayaca eklendi\n",
    "        else:\n",
    "            char_count[char] = 1\n",
    "\n",
    "    return char_count\n",
    "\n",
    "string = \"Sevgican Kılıç\" \n",
    "result = count_char(string) #String parametre olarak alındı\n",
    "print(result)"
   ]
  },
  {
   "cell_type": "code",
   "execution_count": null,
   "metadata": {},
   "outputs": [],
   "source": []
  }
 ],
 "metadata": {
  "kernelspec": {
   "display_name": "base",
   "language": "python",
   "name": "python3"
  },
  "language_info": {
   "codemirror_mode": {
    "name": "ipython",
    "version": 3
   },
   "file_extension": ".py",
   "mimetype": "text/x-python",
   "name": "python",
   "nbconvert_exporter": "python",
   "pygments_lexer": "ipython3",
   "version": "3.9.13"
  }
 },
 "nbformat": 4,
 "nbformat_minor": 2
}
