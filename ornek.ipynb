{
 "cells": [
  {
   "cell_type": "code",
   "execution_count": 1,
   "metadata": {},
   "outputs": [],
   "source": [
    "import pandas as pd\n",
    "import numpy as np"
   ]
  },
  {
   "cell_type": "code",
   "execution_count": 3,
   "metadata": {},
   "outputs": [
    {
     "name": "stdout",
     "output_type": "stream",
     "text": [
      "    Column1   Column2   Column3\n",
      "0  0.807712  0.509132  0.774473\n",
      "1  0.118309  0.624096  0.340402\n",
      "2  0.445808  0.541295  0.888930\n",
      "3  0.703724  0.456083  0.040525\n",
      "4  0.586137  0.880096  0.963956\n"
     ]
    }
   ],
   "source": [
    "import pandas as pd\n",
    "import numpy as np\n",
    "\n",
    "\n",
    "rows = 5\n",
    "cols = 3\n",
    "\n",
    "\n",
    "data = np.random.rand(rows, cols)  \n",
    "df = pd.DataFrame(data, columns=['Column1', 'Column2', 'Column3']) \n",
    "\n",
    "print(df)"
   ]
  },
  {
   "cell_type": "code",
   "execution_count": 13,
   "metadata": {},
   "outputs": [
    {
     "name": "stdout",
     "output_type": "stream",
     "text": [
      "   Column1  Column2  Column3\n",
      "0        7        5        3\n",
      "1        9        7        3\n",
      "2        7        9        7\n",
      "3        7        3        4\n",
      "4        7        8       10\n"
     ]
    }
   ],
   "source": [
    "import pandas as pd\n",
    "import numpy as np\n",
    "\n",
    "# Örnek bir DataFrame oluşturma\n",
    "rows = 5\n",
    "cols = 3\n",
    "\n",
    "# 1'den başlayarak artan rastgele değerler üretme\n",
    "start_value = np.random.randint(1, 10)  # Başlangıç değeri belirleme\n",
    "data = np.random.randint(start_value, start_value + 10, size=(rows, cols))  # Başlangıç değeri üzerine 1 ile 10 arasında rastgele sayılar ekleyerek dizi oluşturma\n",
    "df = pd.DataFrame(data, columns=['Column1', 'Column2', 'Column3'])  # Oluşturulan değerleri kullanarak DataFrame'i oluşturma\n",
    "df.__dataframe__\n",
    "print(df)\n"
   ]
  }
 ],
 "metadata": {
  "kernelspec": {
   "display_name": "base",
   "language": "python",
   "name": "python3"
  },
  "language_info": {
   "codemirror_mode": {
    "name": "ipython",
    "version": 3
   },
   "file_extension": ".py",
   "mimetype": "text/x-python",
   "name": "python",
   "nbconvert_exporter": "python",
   "pygments_lexer": "ipython3",
   "version": "3.11.5"
  }
 },
 "nbformat": 4,
 "nbformat_minor": 2
}
